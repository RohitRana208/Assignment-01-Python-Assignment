{
  "nbformat": 4,
  "nbformat_minor": 0,
  "metadata": {
    "colab": {
      "provenance": [],
      "authorship_tag": "ABX9TyNnL4XsEEi5N2F/Q1jSlSlG",
      "include_colab_link": true
    },
    "kernelspec": {
      "name": "python3",
      "display_name": "Python 3"
    },
    "language_info": {
      "name": "python"
    }
  },
  "cells": [
    {
      "cell_type": "markdown",
      "metadata": {
        "id": "view-in-github",
        "colab_type": "text"
      },
      "source": [
        "<a href=\"https://colab.research.google.com/github/RohitRana208/thapar-summer-school2023/blob/main/ASSIGNMENT1.ipynb\" target=\"_parent\"><img src=\"https://colab.research.google.com/assets/colab-badge.svg\" alt=\"Open In Colab\"/></a>"
      ]
    },
    {
      "cell_type": "markdown",
      "source": [
        "Q 1."
      ],
      "metadata": {
        "id": "qh-KCIC9MBEa"
      }
    },
    {
      "cell_type": "markdown",
      "source": [
        "(i) WAP to add 50 and 60 in the list."
      ],
      "metadata": {
        "id": "j4bAAsU7ODQy"
      }
    },
    {
      "cell_type": "code",
      "source": [
        "L = [11 ,12 ,13 ,14]\n",
        "print(\"List is -->\",L)\n",
        "\n",
        "L.append(50)\n",
        "L.append(60)\n",
        "print(\"Adding 50 and 60 in list \",L)"
      ],
      "metadata": {
        "colab": {
          "base_uri": "https://localhost:8080/"
        },
        "id": "ckspshf1L-__",
        "outputId": "6a1315dc-580d-44ad-feec-6ed897d43c5b"
      },
      "execution_count": null,
      "outputs": [
        {
          "output_type": "stream",
          "name": "stdout",
          "text": [
            "List is --> [11, 12, 13, 14]\n",
            "Adding 50 and 60 in list  [11, 12, 13, 14, 50, 60]\n"
          ]
        }
      ]
    },
    {
      "cell_type": "markdown",
      "source": [
        "(ii) WAP to remove 11 and 13 from L"
      ],
      "metadata": {
        "id": "Fow3GUm7OB5U"
      }
    },
    {
      "cell_type": "code",
      "source": [
        "L = [11 ,12 ,13 ,14]\n",
        "print(\"List is -->\",L)\n",
        "del L[2]\n",
        "del L[0]\n",
        "print(L)"
      ],
      "metadata": {
        "colab": {
          "base_uri": "https://localhost:8080/"
        },
        "id": "QHPHLhEgT_LZ",
        "outputId": "e179eaed-bac6-4362-a0bf-45e698812124"
      },
      "execution_count": null,
      "outputs": [
        {
          "output_type": "stream",
          "name": "stdout",
          "text": [
            "List is --> [11, 12, 13, 14]\n",
            "[12, 14]\n"
          ]
        }
      ]
    },
    {
      "cell_type": "markdown",
      "source": [
        "(iii) WAP to sort L in ascending order"
      ],
      "metadata": {
        "id": "XB1zjl1cSFYb"
      }
    },
    {
      "cell_type": "code",
      "source": [
        "L = [11 ,12 ,13 ,14 ,1 ,2 ,3]\n",
        "print(\"List is -->\",L)\n",
        "L.sort()\n",
        "print(\"After sort -->\",L)\n"
      ],
      "metadata": {
        "colab": {
          "base_uri": "https://localhost:8080/"
        },
        "id": "RzKGlulPUP6O",
        "outputId": "4d65734c-cb1c-4553-c681-26839ce55058"
      },
      "execution_count": null,
      "outputs": [
        {
          "output_type": "stream",
          "name": "stdout",
          "text": [
            "List is --> [11, 12, 13, 14, 1, 2, 3]\n",
            "After sort --> [1, 2, 3, 11, 12, 13, 14]\n"
          ]
        }
      ]
    },
    {
      "cell_type": "markdown",
      "source": [
        "(iv) WAP to sort L in decending order"
      ],
      "metadata": {
        "id": "NPvd0BLHU2Ww"
      }
    },
    {
      "cell_type": "code",
      "source": [
        "L = [11 ,12 ,13 ,14 ,1 ,2 ,3]\n",
        "print(\"List is -->\",L)\n",
        "L.sort(reverse=True)\n",
        "print(\"After --> \",L)"
      ],
      "metadata": {
        "colab": {
          "base_uri": "https://localhost:8080/"
        },
        "id": "q810alpqVDtl",
        "outputId": "4311f9a9-82c5-402b-b9a4-b8790a9a7227"
      },
      "execution_count": null,
      "outputs": [
        {
          "output_type": "stream",
          "name": "stdout",
          "text": [
            "List is --> [11, 12, 13, 14, 1, 2, 3]\n",
            "After -->  [14, 13, 12, 11, 3, 2, 1]\n"
          ]
        }
      ]
    },
    {
      "cell_type": "markdown",
      "source": [
        "(v) WAP to search for 13 in L.\n"
      ],
      "metadata": {
        "id": "BH3wONLZVRZ1"
      }
    },
    {
      "cell_type": "code",
      "source": [
        "L = [11 ,12 ,13 ,14 ,1 ,2 ,3]\n",
        "print(\"List is -->\",L)\n",
        "print (\"Original List --> \", 13 in L)\n",
        "if (13 in L) == True:\n",
        "\tprint (\"Present\")\n",
        "else:\n",
        "\tprint (\"Not Present\")"
      ],
      "metadata": {
        "colab": {
          "base_uri": "https://localhost:8080/"
        },
        "id": "j1_Q0x7WVsRh",
        "outputId": "260dd213-fff3-4263-f08c-1edc6e6f21e3"
      },
      "execution_count": null,
      "outputs": [
        {
          "output_type": "stream",
          "name": "stdout",
          "text": [
            "List is --> [11, 12, 13, 14, 1, 2, 3]\n",
            "Original List -->  True\n",
            "Present\n"
          ]
        }
      ]
    },
    {
      "cell_type": "markdown",
      "source": [
        "(vi) WAP to count the number of elements present in L."
      ],
      "metadata": {
        "id": "HYQTv0RuWn-q"
      }
    },
    {
      "cell_type": "code",
      "source": [
        "L = [11 ,12 ,13 ,14]\n",
        "print(\"List is -->\",len(L))"
      ],
      "metadata": {
        "colab": {
          "base_uri": "https://localhost:8080/"
        },
        "id": "PRWhVJM4WrTT",
        "outputId": "7accc942-263e-4915-ca74-a17eea166db1"
      },
      "execution_count": null,
      "outputs": [
        {
          "output_type": "stream",
          "name": "stdout",
          "text": [
            "List is --> 4\n"
          ]
        }
      ]
    },
    {
      "cell_type": "markdown",
      "source": [
        "(vii) WAP to sum all the elements in L."
      ],
      "metadata": {
        "id": "X2c0UwoMXB8W"
      }
    },
    {
      "cell_type": "code",
      "source": [
        "L = [11 ,12 ,13 ,14 ]\n",
        "print(\"List is -->\",L)\n",
        "print(\"sum is --> \",sum(L))"
      ],
      "metadata": {
        "colab": {
          "base_uri": "https://localhost:8080/"
        },
        "id": "UFVb8XygXIj0",
        "outputId": "2b21def9-2d48-440a-e491-ad7ce88c454a"
      },
      "execution_count": null,
      "outputs": [
        {
          "output_type": "stream",
          "name": "stdout",
          "text": [
            "List is --> [11, 12, 13, 14]\n",
            "sum is -->  50\n"
          ]
        }
      ]
    },
    {
      "cell_type": "markdown",
      "source": [],
      "metadata": {
        "id": "pyWWY4Vve8SC"
      }
    },
    {
      "cell_type": "markdown",
      "source": [
        "(ix) WAP to sum all EVEN numbers in L."
      ],
      "metadata": {
        "id": "gcOLU5RkgopO"
      }
    },
    {
      "cell_type": "code",
      "source": [
        "def sum_even_numbers(L):\n",
        "    total = 0\n",
        "    for num in L:\n",
        "        if num % 2 == 0:\n",
        "            total = total + num\n",
        "    return total\n",
        "\n",
        "L = [11 ,12 ,13 ,14]\n",
        "even_sum = sum_even_numbers(L)\n",
        "print(\"Sum of even numbers:\", even_sum)"
      ],
      "metadata": {
        "colab": {
          "base_uri": "https://localhost:8080/"
        },
        "id": "w_Kv--kDgqDd",
        "outputId": "3cc35164-46d8-4b6b-9dac-65828fc57829"
      },
      "execution_count": null,
      "outputs": [
        {
          "output_type": "stream",
          "name": "stdout",
          "text": [
            "Sum of even numbers: 26\n"
          ]
        }
      ]
    },
    {
      "cell_type": "markdown",
      "source": [
        "(x) WAP to sum all PRIME numbers in L"
      ],
      "metadata": {
        "id": "0ZlpYUWliZ8Y"
      }
    },
    {
      "cell_type": "code",
      "source": [
        "def ISprime(num):\n",
        "    if num < 2:\n",
        "        return False\n",
        "    for i in range(2, int(num**0.5) + 1):\n",
        "        if num % i == 0:\n",
        "            return False\n",
        "    return True\n",
        "\n",
        "def psum_num(L):\n",
        "    t = 0\n",
        "    for num in L:\n",
        "        if ISprime(num):\n",
        "            t = t + num\n",
        "    return t\n",
        "\n",
        "# Example usage\n",
        "L = [11 ,12 ,13 ,14]\n",
        "psum = psum_num(L)\n",
        "print(\"Sum of prime numbers:\", psum)\n"
      ],
      "metadata": {
        "colab": {
          "base_uri": "https://localhost:8080/"
        },
        "id": "flqVo7OSiYch",
        "outputId": "2ad47c37-5790-4a8b-a736-3751116dd14c"
      },
      "execution_count": null,
      "outputs": [
        {
          "output_type": "stream",
          "name": "stdout",
          "text": [
            "Sum of prime numbers: 24\n"
          ]
        }
      ]
    },
    {
      "cell_type": "markdown",
      "source": [
        "(xi) WAP to clear all the elements in L."
      ],
      "metadata": {
        "id": "54PXj5bZm1Kb"
      }
    },
    {
      "cell_type": "code",
      "source": [
        "L = [11 ,12 ,13 ,14]\n",
        "print(\"List is -->\",L)\n",
        "\n",
        "L.clear()\n",
        "print(\"After clear -->\",L)"
      ],
      "metadata": {
        "colab": {
          "base_uri": "https://localhost:8080/"
        },
        "id": "8HlbIu5vm94X",
        "outputId": "d5baad39-2cdb-4696-cb9e-5dbd1ff60a3a"
      },
      "execution_count": null,
      "outputs": [
        {
          "output_type": "stream",
          "name": "stdout",
          "text": [
            "List is --> [11, 12, 13, 14]\n",
            "After clear --> []\n"
          ]
        }
      ]
    },
    {
      "cell_type": "markdown",
      "source": [
        "(xii) WAP to delete L."
      ],
      "metadata": {
        "id": "VxEXejFhnlVM"
      }
    },
    {
      "cell_type": "markdown",
      "source": [
        "\n",
        "Q2. D is a dictionary defined as D= {1:5.6, 2:7.8, 3:6.6, 4:8.7, 5:7.7}."
      ],
      "metadata": {
        "id": "h-g5peU-qyL1"
      }
    },
    {
      "cell_type": "markdown",
      "source": [
        "(i) WAP to add new entry in D; key=8 and value is 8.8"
      ],
      "metadata": {
        "id": "5F31iGBWq9sC"
      }
    },
    {
      "cell_type": "code",
      "source": [
        "D= {1:5.6, 2:7.8, 3:6.6, 4:8.7, 5:7.7}\n",
        "print(\"Before add --> \",D)\n",
        "\n",
        "D[8] = 8.8\n",
        "\n",
        "print(\"After adding -->\",D)"
      ],
      "metadata": {
        "colab": {
          "base_uri": "https://localhost:8080/"
        },
        "id": "wr0jqDFTrAhS",
        "outputId": "bbf9193c-e8d2-4518-8c07-1523c693a61b"
      },
      "execution_count": null,
      "outputs": [
        {
          "output_type": "stream",
          "name": "stdout",
          "text": [
            "Before add -->  {1: 5.6, 2: 7.8, 3: 6.6, 4: 8.7, 5: 7.7}\n",
            "After adding --> {1: 5.6, 2: 7.8, 3: 6.6, 4: 8.7, 5: 7.7, 8: 8.8}\n"
          ]
        }
      ]
    },
    {
      "cell_type": "markdown",
      "source": [
        "(ii) WAP to remove key=2."
      ],
      "metadata": {
        "id": "HQpPSEvXrznn"
      }
    },
    {
      "cell_type": "code",
      "source": [
        "D= {1:5.6, 2:7.8, 3:6.6, 4:8.7, 5:7.7}\n",
        "print(\"Before remove--> \",D)\n",
        "\n",
        "del D[2]\n",
        "\n",
        "print(\"After removing -->\",D)"
      ],
      "metadata": {
        "colab": {
          "base_uri": "https://localhost:8080/"
        },
        "id": "PzylJyvJr3Zh",
        "outputId": "18aaf78a-0c6c-4e9b-dcc3-d024db74259c"
      },
      "execution_count": null,
      "outputs": [
        {
          "output_type": "stream",
          "name": "stdout",
          "text": [
            "Before remove-->  {1: 5.6, 2: 7.8, 3: 6.6, 4: 8.7, 5: 7.7}\n",
            "After removing --> {1: 5.6, 3: 6.6, 4: 8.7, 5: 7.7}\n"
          ]
        }
      ]
    },
    {
      "cell_type": "markdown",
      "source": [
        "(iii) WAP to check weather 6 key is present in D"
      ],
      "metadata": {
        "id": "zjWuaqc6sXgU"
      }
    },
    {
      "cell_type": "code",
      "source": [
        "D= {1:5.6, 2:7.8, 3:6.6, 4:8.7, 5:7.7}\n",
        "print(\"D is--> \",D)\n",
        "\n",
        "print (\"Is Key 6 Present    --> \", 6 in D)"
      ],
      "metadata": {
        "colab": {
          "base_uri": "https://localhost:8080/"
        },
        "id": "yxLX9HNSscgp",
        "outputId": "ad20e532-bec1-4e3b-8ba1-1df3024f7e31"
      },
      "execution_count": null,
      "outputs": [
        {
          "output_type": "stream",
          "name": "stdout",
          "text": [
            "Before remove-->  {1: 5.6, 2: 7.8, 3: 6.6, 4: 8.7, 5: 7.7}\n",
            "Is Key 6 Present    -->  False\n"
          ]
        }
      ]
    },
    {
      "cell_type": "markdown",
      "source": [
        "(iv) WAP to count the number of elements present in D.\n"
      ],
      "metadata": {
        "id": "rTZk1heIs2qu"
      }
    },
    {
      "cell_type": "code",
      "source": [
        "D= {1:5.6, 2:7.8, 3:6.6, 4:8.7, 5:7.7}\n",
        "print(\"Number of elements in D--> \",len(D))\n"
      ],
      "metadata": {
        "colab": {
          "base_uri": "https://localhost:8080/"
        },
        "id": "tVwbhsOxs621",
        "outputId": "44f662a5-2088-49c7-9f05-4776d39690be"
      },
      "execution_count": null,
      "outputs": [
        {
          "output_type": "stream",
          "name": "stdout",
          "text": [
            "Before remove-->  5\n"
          ]
        }
      ]
    },
    {
      "cell_type": "markdown",
      "source": [
        "(v) WAP to add all the values present D.\n"
      ],
      "metadata": {
        "id": "XwOq4ZsatHmU"
      }
    },
    {
      "cell_type": "code",
      "source": [
        "D= {1:5.6, 2:7.8, 3:6.6, 4:8.7, 5:7.7}\n",
        "print(\"sum of D is --> \",sum(D))\n"
      ],
      "metadata": {
        "colab": {
          "base_uri": "https://localhost:8080/"
        },
        "id": "CoxALP3ttIu0",
        "outputId": "a2a91510-0bf9-404f-c84e-131340d3ed51"
      },
      "execution_count": null,
      "outputs": [
        {
          "output_type": "stream",
          "name": "stdout",
          "text": [
            "Before remove-->  15\n"
          ]
        }
      ]
    },
    {
      "cell_type": "markdown",
      "source": [
        "(vi) WAP to update the value of 3 to 7.1"
      ],
      "metadata": {
        "id": "yMvx-l40tfC0"
      }
    },
    {
      "cell_type": "code",
      "source": [
        "D= {1:5.6, 2:7.8, 3:6.6, 4:8.7, 5:7.7}\n",
        "print(\"Before --> \",D)\n",
        "\n",
        "D[3] = 7.1\n",
        "\n",
        "print(\"After update -->\", D)"
      ],
      "metadata": {
        "colab": {
          "base_uri": "https://localhost:8080/"
        },
        "id": "cNX0VDp9tlTP",
        "outputId": "360d4671-661d-468b-9aca-125b74aad164"
      },
      "execution_count": null,
      "outputs": [
        {
          "output_type": "stream",
          "name": "stdout",
          "text": [
            "Before remove-->  {1: 5.6, 2: 7.8, 3: 6.6, 4: 8.7, 5: 7.7}\n",
            "After update --> {1: 5.6, 2: 7.8, 3: 7.1, 4: 8.7, 5: 7.7}\n"
          ]
        }
      ]
    },
    {
      "cell_type": "markdown",
      "source": [
        "(vii) WAP to clear the dictionary"
      ],
      "metadata": {
        "id": "wr5CajZyuS5g"
      }
    },
    {
      "cell_type": "code",
      "source": [
        "D= {1:5.6, 2:7.8, 3:6.6, 4:8.7, 5:7.7}\n",
        "print(\"Before --> \",D)\n",
        "\n",
        "D.clear()\n",
        "\n",
        "print(\"Cleared D\",D)"
      ],
      "metadata": {
        "colab": {
          "base_uri": "https://localhost:8080/"
        },
        "id": "8-hRZEkHuZ3Q",
        "outputId": "36be940a-4de4-41f7-ecbe-e84e046711f6"
      },
      "execution_count": null,
      "outputs": [
        {
          "output_type": "stream",
          "name": "stdout",
          "text": [
            "Before -->  {1: 5.6, 2: 7.8, 3: 6.6, 4: 8.7, 5: 7.7}\n",
            "Cleared D {}\n"
          ]
        }
      ]
    },
    {
      "cell_type": "markdown",
      "source": [
        "Q3. S1 is a set defined as S1= [10, 20, 30, 40, 50, 60]                         \n",
        " S2 is a set defined as S2= [40, 50, 60, 70, 80, 90]."
      ],
      "metadata": {
        "id": "mXrEaB-jutwp"
      }
    },
    {
      "cell_type": "markdown",
      "source": [
        "(i) WAP to add 55 and 66 in Set S1"
      ],
      "metadata": {
        "id": "evBgllXgutkf"
      }
    },
    {
      "cell_type": "code",
      "source": [
        "S1= [10, 20, 30, 40, 50, 60]\n",
        "print(\"S1 is --> \",S1)\n",
        "\n",
        "S1.append(55)\n",
        "S1.append(66)\n",
        "\n",
        "print(\"After adding --> \",S1)"
      ],
      "metadata": {
        "colab": {
          "base_uri": "https://localhost:8080/"
        },
        "id": "gmCs3m5mvFO-",
        "outputId": "f2d10829-59db-4cb6-8101-b9cb4015bb88"
      },
      "execution_count": null,
      "outputs": [
        {
          "output_type": "stream",
          "name": "stdout",
          "text": [
            "S1 is -->  [10, 20, 30, 40, 50, 60]\n",
            "After adding -->  [10, 20, 30, 40, 50, 60, 55, 66]\n"
          ]
        }
      ]
    },
    {
      "cell_type": "markdown",
      "source": [
        "(ii) WAP to remove 10 and 30 from Set S1."
      ],
      "metadata": {
        "id": "7qISVYY9kxTz"
      }
    },
    {
      "cell_type": "code",
      "source": [
        "S1= [10, 20, 30, 40, 50, 60]\n",
        "print(\"S1 is --> \",S1)\n",
        "\n",
        "S1.remove(10)\n",
        "S1.remove(30)\n",
        "\n",
        "print(\"After removing --> \",S1)"
      ],
      "metadata": {
        "colab": {
          "base_uri": "https://localhost:8080/"
        },
        "id": "2yvWCOiglCvc",
        "outputId": "06816538-97b8-4c44-b9aa-26781c168d21"
      },
      "execution_count": null,
      "outputs": [
        {
          "output_type": "stream",
          "name": "stdout",
          "text": [
            "S1 is -->  [10, 20, 30, 40, 50, 60]\n",
            "After removing -->  [20, 40, 50, 60]\n"
          ]
        }
      ]
    },
    {
      "cell_type": "markdown",
      "source": [
        "(iii) WAP to check whether 40 is present in S1"
      ],
      "metadata": {
        "id": "Aw6e3CeSlkss"
      }
    },
    {
      "cell_type": "code",
      "source": [
        "S1= [10, 20, 30, 40, 50, 60]\n",
        "print(\"S1 is --> \", S1)\n",
        "\n",
        "if (40 in S1) == True:\n",
        "  print(\"Present\")\n",
        "else:\n",
        "  print(\"Not present\")\n",
        "\n",
        "  S1= [10, 20, 30, 40, 50, 60]\n",
        "#print(\"S1 is --> \", S1)\n",
        "S2= [40, 50, 60, 70, 80, 90]\n",
        "#print(\"S2 is --> \", S2)\n",
        "union_set = S1.union(S2)\n",
        "print(\"Union between S1 and S2 is --> \",union_set)\n"
      ],
      "metadata": {
        "colab": {
          "base_uri": "https://localhost:8080/"
        },
        "id": "X0P9dTw9lq9E",
        "outputId": "b0200c48-c20a-455b-e80a-165f283f2bde"
      },
      "execution_count": null,
      "outputs": [
        {
          "output_type": "stream",
          "name": "stdout",
          "text": [
            "S1 is -->  [10, 20, 30, 40, 50, 60]\n",
            "Present\n"
          ]
        }
      ]
    },
    {
      "cell_type": "code",
      "source": [],
      "metadata": {
        "id": "6ZsYAXYnma_s"
      },
      "execution_count": null,
      "outputs": []
    },
    {
      "cell_type": "markdown",
      "source": [
        "(iv) WAP to find the union between S1 and S2."
      ],
      "metadata": {
        "id": "ossbWKuBmklU"
      }
    },
    {
      "cell_type": "code",
      "source": [
        "S1= [10, 20, 30, 40, 50, 60]\n",
        "print(\"S1 is --> \", S1)\n",
        "S2= [40, 50, 60, 70, 80, 90]\n",
        "print(\"S2 is --> \", S2)\n",
        "union=list(set().union(S1,S2))\n",
        "print(\"Union between S1 and S2 is --> \",union)\n"
      ],
      "metadata": {
        "colab": {
          "base_uri": "https://localhost:8080/"
        },
        "id": "z3izVRy8mve9",
        "outputId": "3fd37419-921b-4de4-c279-dd8dd0f13d1c"
      },
      "execution_count": null,
      "outputs": [
        {
          "output_type": "stream",
          "name": "stdout",
          "text": [
            "S1 is -->  [10, 20, 30, 40, 50, 60]\n",
            "S2 is -->  [40, 50, 60, 70, 80, 90]\n",
            "Union between S1 and S2 is -->  [70, 40, 10, 80, 50, 20, 90, 60, 30]\n"
          ]
        }
      ]
    },
    {
      "cell_type": "markdown",
      "source": [
        "(v) WAP to find the intersection between S1 and S2."
      ],
      "metadata": {
        "id": "xnoAcHOJqrMz"
      }
    },
    {
      "cell_type": "code",
      "source": [
        "S1= [10, 20, 30, 40, 50, 60]\n",
        "print(\"S1 is --> \", S1)\n",
        "S2= [40, 50, 60, 70, 80, 90]\n",
        "print(\"S2 is --> \", S2)\n",
        "\n",
        "set1 = set(S1)\n",
        "set2 = set(S2)\n",
        "\n",
        "result = list(set1 & set2)\n",
        "\n",
        "print(result)"
      ],
      "metadata": {
        "colab": {
          "base_uri": "https://localhost:8080/"
        },
        "id": "vAyz_Iurq2ib",
        "outputId": "2986abb6-170d-4fd2-cd8c-572f43b1bc0a"
      },
      "execution_count": null,
      "outputs": [
        {
          "output_type": "stream",
          "name": "stdout",
          "text": [
            "S1 is -->  [10, 20, 30, 40, 50, 60]\n",
            "S2 is -->  [40, 50, 60, 70, 80, 90]\n",
            "[40, 50, 60]\n"
          ]
        }
      ]
    },
    {
      "cell_type": "code",
      "source": [
        "(vi) WAP to find the S1 - S2."
      ],
      "metadata": {
        "id": "SppKqsxntwwp"
      },
      "execution_count": null,
      "outputs": []
    },
    {
      "cell_type": "code",
      "source": [
        "S1= [10, 20, 30, 40, 50, 60]\n",
        "print(\"S1 is --> \", S1)\n",
        "S2= [40, 50, 60, 70, 80, 90]\n",
        "print(\"S2 is --> \", S2)\n",
        "\n",
        "difference_set = list(set(S1) - set(S2))\n",
        "\n",
        "print(difference_set)\n"
      ],
      "metadata": {
        "colab": {
          "base_uri": "https://localhost:8080/"
        },
        "id": "-2ApJXJftyO1",
        "outputId": "f433875b-d2fd-4d8f-847e-5356f41875a1"
      },
      "execution_count": null,
      "outputs": [
        {
          "output_type": "stream",
          "name": "stdout",
          "text": [
            "S1 is -->  [10, 20, 30, 40, 50, 60]\n",
            "S2 is -->  [40, 50, 60, 70, 80, 90]\n",
            "[10, 20, 30]\n"
          ]
        }
      ]
    },
    {
      "cell_type": "markdown",
      "source": [
        "Q4. Write the following program.            \n",
        "(i) WAP to print 100 random strings whose length between 6 and 8"
      ],
      "metadata": {
        "id": "KavtTN7vu-HL"
      }
    },
    {
      "cell_type": "code",
      "source": [
        "import random\n",
        "import string\n",
        "\n",
        "for _ in range(100):\n",
        "    length = random.randint(6, 8)\n",
        "    random_string = ''.join(random.choices(string.ascii_uppercase, k=length))\n",
        "    print(random_string)\n",
        "    "
      ],
      "metadata": {
        "id": "fumUKN8pvLI9"
      },
      "execution_count": null,
      "outputs": []
    },
    {
      "cell_type": "markdown",
      "source": [
        "(ii) WAP to print all prime numbers between 600 and 800."
      ],
      "metadata": {
        "id": "STULaSnO9PXf"
      }
    },
    {
      "cell_type": "code",
      "source": [
        "def IsPrime(n):\n",
        "\tfor i in range(2, n//2 + 1):\n",
        "\t\tif n%i==0:\n",
        "\t\t\treturn 0\n",
        "\treturn 1\n",
        "\n",
        "s = 600\n",
        "e = 800\n",
        "\n",
        "pnumbers = []\n",
        "\n",
        "for num in range(s, e + 1):\n",
        "    if IsPrime(num):\n",
        "        pnumbers.append(num)\n",
        "\n",
        "for prime in pnumbers:\n",
        "    print(prime)"
      ],
      "metadata": {
        "id": "ThkS2qT-9YEZ"
      },
      "execution_count": null,
      "outputs": []
    },
    {
      "cell_type": "markdown",
      "source": [
        "(iii) WAP to print all numbers between 100 and 1000 that are divisible by 7 and 9.\n"
      ],
      "metadata": {
        "id": "pPjMM9YG-Xcn"
      }
    },
    {
      "cell_type": "code",
      "source": [
        "s = 100\n",
        "e = 1000\n",
        "\n",
        "divisible = []\n",
        "\n",
        "for num in range(s, e + 1):\n",
        "    if num % 7 == 0 and num % 9 == 0:\n",
        "        divisible.append(num)\n",
        "\n",
        "for number in divisible:\n",
        "    print(number)"
      ],
      "metadata": {
        "id": "Xj9eIdwW-tee"
      },
      "execution_count": null,
      "outputs": []
    },
    {
      "cell_type": "markdown",
      "source": [
        "Q5. WAP to create two lists of 10 random numbers between 10 and 30;    \n",
        " Find \n",
        "(i) Common numbers in the two lists"
      ],
      "metadata": {
        "id": "cYXIusvD_VkT"
      }
    },
    {
      "cell_type": "code",
      "source": [
        "S1 = random.sample(range(10, 31), 10)\n",
        "S2 = random.sample(range(10, 31), 10)\n",
        "print(S1)\n",
        "print(S2)\n",
        "print(set(S1) & set(S2))\n",
        "\n",
        "import random\n",
        "S1 = random.sample(range(10, 31), 10)\n",
        "S2 = random.sample(range(10, 31), 10)\n",
        "print(S1)\n",
        "print(S2)\n",
        "print(list(set(S1).intersection(S2)))"
      ],
      "metadata": {
        "colab": {
          "base_uri": "https://localhost:8080/"
        },
        "id": "13pnwFKk_Ygl",
        "outputId": "9a5d167e-934e-428f-a68e-cda41d27c534"
      },
      "execution_count": null,
      "outputs": [
        {
          "output_type": "stream",
          "name": "stdout",
          "text": [
            "[10, 25, 12, 28, 23, 27, 30, 18, 22, 26]\n",
            "[28, 17, 27, 10, 16, 11, 29, 18, 12, 20]\n",
            "{10, 12, 18, 27, 28}\n"
          ]
        }
      ]
    },
    {
      "cell_type": "markdown",
      "source": [
        "(ii) Unique numbers in both the list\n"
      ],
      "metadata": {
        "id": "guE-wElSJC28"
      }
    },
    {
      "cell_type": "code",
      "source": [
        "import random\n",
        "\n",
        "L1 = random.sample(range(10, 31), 10)\n",
        "L2 = random.sample(range(10, 31), 10)\n",
        "\n",
        "print(\"List 1:\", L1)\n",
        "print(\"List 2:\", L2)\n",
        "print(\"Unique numbers in both lists:\",list(set(L1).intersection(L2)))\n"
      ],
      "metadata": {
        "colab": {
          "base_uri": "https://localhost:8080/"
        },
        "id": "r42QuFxaJnrv",
        "outputId": "3da3abc4-345a-4b19-c4d5-15f1a21b0cec"
      },
      "execution_count": null,
      "outputs": [
        {
          "output_type": "stream",
          "name": "stdout",
          "text": [
            "List 1: [15, 23, 10, 20, 16, 13, 29, 24, 12, 18]\n",
            "List 2: [26, 28, 19, 14, 30, 21, 13, 10, 15, 22]\n",
            "Unique numbers in both lists: [10, 13, 15]\n"
          ]
        }
      ]
    },
    {
      "cell_type": "markdown",
      "source": [
        "(iii) Minimum in both the list\n"
      ],
      "metadata": {
        "id": "BePm4XHULdIh"
      }
    },
    {
      "cell_type": "code",
      "source": [
        "import random\n",
        "\n",
        "L1 = random.sample(range(10, 31), 10)\n",
        "L2 = random.sample(range(10, 31), 10)\n",
        "\n",
        "print(\"List 1:\", L1)\n",
        "print(\"List 1:\", max(L1))\n",
        "print(\"List 2:\", L2)\n",
        "print(\"List 2:\", max(L2))"
      ],
      "metadata": {
        "colab": {
          "base_uri": "https://localhost:8080/"
        },
        "id": "SRj9TOctLd8r",
        "outputId": "ae51f198-2c5c-4fa5-d393-4c3df4c145e6"
      },
      "execution_count": null,
      "outputs": [
        {
          "output_type": "stream",
          "name": "stdout",
          "text": [
            "List 1: [29, 27, 23, 17, 13, 22, 18, 16, 11, 15]\n",
            "List 1: 29\n",
            "List 2: [10, 17, 25, 13, 23, 12, 11, 26, 15, 19]\n",
            "List 2: 26\n"
          ]
        }
      ]
    },
    {
      "cell_type": "markdown",
      "source": [
        "(iv) Maximum in both the list"
      ],
      "metadata": {
        "id": "QYSm6ZkGL8dA"
      }
    },
    {
      "cell_type": "code",
      "source": [
        "import random\n",
        "\n",
        "L1 = random.sample(range(10, 31), 10)\n",
        "L2 = random.sample(range(10, 31), 10)\n",
        "\n",
        "print(\"List 1:\", L1)\n",
        "print(\"List 1:\", min(L1))\n",
        "print(\"List 2:\", L2)\n",
        "print(\"List 2:\", min(L2))"
      ],
      "metadata": {
        "colab": {
          "base_uri": "https://localhost:8080/"
        },
        "id": "816CaNA1L_pc",
        "outputId": "291201e3-12f5-4f8f-ec6c-a34974358e44"
      },
      "execution_count": null,
      "outputs": [
        {
          "output_type": "stream",
          "name": "stdout",
          "text": [
            "List 1: [29, 15, 17, 16, 21, 10, 11, 12, 18, 26]\n",
            "List 1: 10\n",
            "List 2: [11, 27, 19, 22, 23, 30, 16, 26, 28, 25]\n",
            "List 2: 11\n"
          ]
        }
      ]
    },
    {
      "cell_type": "markdown",
      "source": [
        "(v) Sum of both the lists"
      ],
      "metadata": {
        "id": "lJVmHrMtMGN5"
      }
    },
    {
      "cell_type": "code",
      "source": [
        "import random\n",
        "\n",
        "L1 = random.sample(range(10, 31), 10)\n",
        "L2 = random.sample(range(10, 31), 10)\n",
        "\n",
        "print(\"List 1:\", L1)\n",
        "print(\"List 1:\", sum(L1))\n",
        "print(\"List 2:\", L2)\n",
        "print(\"List 2:\", sum(L2))"
      ],
      "metadata": {
        "colab": {
          "base_uri": "https://localhost:8080/"
        },
        "id": "Wvn2Un1aMO9j",
        "outputId": "8180bad1-d360-410d-800a-2bed1d8077ea"
      },
      "execution_count": null,
      "outputs": [
        {
          "output_type": "stream",
          "name": "stdout",
          "text": [
            "List 1: [23, 12, 13, 18, 29, 26, 28, 17, 24, 30]\n",
            "List 1: 220\n",
            "List 2: [11, 18, 12, 27, 17, 13, 15, 14, 20, 16]\n",
            "List 2: 163\n"
          ]
        }
      ]
    },
    {
      "cell_type": "markdown",
      "source": [
        "Q6. WAP to create a list of 100 random numbers between 100 and 900. Count and print the: \n",
        "\n",
        "(i) All odd numbers\n"
      ],
      "metadata": {
        "id": "AJp6q12NMUi0"
      }
    },
    {
      "cell_type": "code",
      "source": [
        "import random\n",
        "\n",
        "random_numbers = [random.randint(100, 900) for _ in range(100)]\n",
        "\n",
        "odd_numbers = [num for num in random_numbers if num % 2 != 0]\n",
        "\n",
        "print(\"All odd numbers:\", odd_numbers)\n",
        "print(\"Count of odd numbers:\", len(odd_numbers))\n"
      ],
      "metadata": {
        "colab": {
          "base_uri": "https://localhost:8080/"
        },
        "id": "tLHEVfqtMiDZ",
        "outputId": "e2b0afa5-89bd-4967-be50-42c2dd659482"
      },
      "execution_count": null,
      "outputs": [
        {
          "output_type": "stream",
          "name": "stdout",
          "text": [
            "All odd numbers: [711, 701, 423, 177, 757, 239, 443, 325, 857, 405, 583, 271, 361, 155, 683, 241, 701, 375, 689, 583, 109, 241, 145, 621, 339, 381, 439, 251, 319, 365, 487, 511, 305, 319, 853, 559, 771]\n",
            "Count of odd numbers: 37\n"
          ]
        }
      ]
    },
    {
      "cell_type": "markdown",
      "source": [
        "(ii) All even numbers\n"
      ],
      "metadata": {
        "id": "DOdezm6sOxSi"
      }
    },
    {
      "cell_type": "code",
      "source": [
        "import random\n",
        "\n",
        "random_numbers = [random.randint(100, 900) for _ in range(100)]\n",
        "\n",
        "even_numbers = [num for num in random_numbers if num % 2 == 0]\n",
        "\n",
        "print(\"All odd numbers:\", even_numbers)\n",
        "print(\"Count of even numbers:\", len(even_numbers))"
      ],
      "metadata": {
        "colab": {
          "base_uri": "https://localhost:8080/"
        },
        "id": "7b3yLY-KO3J8",
        "outputId": "aa91d321-68b0-4233-b668-2e1eb1c5f27e"
      },
      "execution_count": null,
      "outputs": [
        {
          "output_type": "stream",
          "name": "stdout",
          "text": [
            "All odd numbers: [500, 220, 162, 440, 870, 882, 390, 812, 384, 630, 882, 346, 276, 766, 562, 670, 658, 530, 754, 480, 572, 846, 494, 122, 562, 610, 812, 786, 566, 230, 440, 384, 522, 626, 532, 298, 846, 284, 622, 576, 734, 806, 170, 430, 746, 258, 116, 336, 618, 382, 150, 656, 440, 424, 630, 330, 788]\n",
            "Count of even numbers: 57\n"
          ]
        }
      ]
    },
    {
      "cell_type": "markdown",
      "source": [
        "(iii) All prime numbers\n"
      ],
      "metadata": {
        "id": "X-4Aq2S2PHvh"
      }
    },
    {
      "cell_type": "code",
      "source": [
        "import random\n",
        "\n",
        "def ISprime(num):\n",
        "    if num < 2:\n",
        "        return False\n",
        "    for i in range(2, int(num//2) + 1):\n",
        "        if num % i == 0:\n",
        "            return False\n",
        "    return True\n",
        "\n",
        "random = [random.randint(100, 900) for _ in range(100)]\n",
        "print(random)\n",
        "pnumbers = [num for num in random if ISprime(num)]\n",
        "\n",
        "print(\"All prime numbers:\", pnumbers)\n",
        "print(\"Count of prime numbers:\", len(pnumbers))"
      ],
      "metadata": {
        "colab": {
          "base_uri": "https://localhost:8080/"
        },
        "id": "KlJki46YPDLG",
        "outputId": "0d8c87b7-f43b-43aa-a77f-7a94be1da18b"
      },
      "execution_count": null,
      "outputs": [
        {
          "output_type": "stream",
          "name": "stdout",
          "text": [
            "[285, 443, 434, 448, 511, 502, 538, 656, 279, 781, 430, 540, 414, 854, 838, 614, 756, 440, 433, 572, 426, 582, 512, 133, 551, 673, 293, 584, 427, 617, 667, 642, 311, 790, 656, 419, 455, 775, 353, 160, 412, 769, 748, 710, 233, 689, 838, 187, 368, 658, 741, 473, 491, 137, 127, 446, 786, 376, 380, 443, 659, 274, 846, 123, 772, 554, 819, 410, 561, 307, 386, 376, 433, 545, 377, 238, 509, 773, 103, 466, 299, 223, 263, 154, 820, 583, 886, 300, 856, 429, 206, 301, 499, 366, 649, 102, 488, 120, 807, 229]\n",
            "All prime numbers: [443, 433, 673, 293, 617, 311, 419, 353, 769, 233, 491, 137, 127, 443, 659, 307, 433, 509, 773, 103, 223, 263, 499, 229]\n",
            "Count of prime numbers: 24\n"
          ]
        }
      ]
    },
    {
      "cell_type": "markdown",
      "source": [],
      "metadata": {
        "id": "UjtxaBaIQoaz"
      }
    }
  ]
}